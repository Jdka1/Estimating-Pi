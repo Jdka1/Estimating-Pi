{
  "nbformat": 4,
  "nbformat_minor": 0,
  "metadata": {
    "colab": {
      "provenance": [],
      "authorship_tag": "ABX9TyM8e/o+Sfn/jI9HbqzOhqMD",
      "include_colab_link": true
    },
    "kernelspec": {
      "name": "python3",
      "display_name": "Python 3"
    },
    "language_info": {
      "name": "python"
    }
  },
  "cells": [
    {
      "cell_type": "markdown",
      "metadata": {
        "id": "view-in-github",
        "colab_type": "text"
      },
      "source": [
        "<a href=\"https://colab.research.google.com/github/Jdka1/Estimating-Pi/blob/main/Estimating_Pi.ipynb\" target=\"_parent\"><img src=\"https://colab.research.google.com/assets/colab-badge.svg\" alt=\"Open In Colab\"/></a>"
      ]
    },
    {
      "cell_type": "code",
      "execution_count": null,
      "metadata": {
        "colab": {
          "base_uri": "https://localhost:8080/"
        },
        "id": "bXl8vqchieGt",
        "outputId": "e1962432-8a19-4706-ea6d-0c7b2b525f54"
      },
      "outputs": [
        {
          "output_type": "stream",
          "name": "stderr",
          "text": [
            "100%|██████████| 1000000/1000000 [00:01<00:00, 804863.83it/s]"
          ]
        },
        {
          "output_type": "stream",
          "name": "stdout",
          "text": [
            "\n",
            "\n",
            "\n",
            "\n",
            "pi_estimation = 3.141056\n"
          ]
        },
        {
          "output_type": "stream",
          "name": "stderr",
          "text": [
            "\n"
          ]
        }
      ],
      "source": [
        "import random\n",
        "import math\n",
        "from tqdm import tqdm\n",
        "\n",
        "def generate_pt():\n",
        "    return random.uniform(-1,1), random.uniform(-1,1) # Random point generated with uniform probability in (-1,1)\n",
        "\n",
        "def check_pt_in_circle(x,y):\n",
        "    if math.sqrt((x-0)**2 + (y-0)**2) <= 1: # Pythagorean theorem/distance formula\n",
        "        return True\n",
        "    else:\n",
        "        return False\n",
        "\n",
        "\n",
        "num_simulations = 1000000\n",
        "num_points_in_circle = 0\n",
        "\n",
        "for i in tqdm(range(num_simulations)): # First, we generate a random point in our square. Then, we check if it's in the circle as well. If it is, we add to the tally.\n",
        "    x,y = generate_pt()\n",
        "    if check_pt_in_circle(x,y) == True:\n",
        "        num_points_in_circle += 1\n",
        "print('\\n' * 3)\n",
        "\n",
        "pi_estimation = 4 * (num_points_in_circle / num_simulations)\n",
        "print(f'{pi_estimation = }')"
      ]
    }
  ]
}